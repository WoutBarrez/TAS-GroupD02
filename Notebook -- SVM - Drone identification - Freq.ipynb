{
 "cells": [
  {
   "cell_type": "code",
   "execution_count": 3,
   "metadata": {},
   "outputs": [],
   "source": [
    "# Import necessary libraries\n",
    "import csv\n",
    "import numpy as np\n",
    "from sklearn import svm\n",
    "from sklearn.model_selection import train_test_split\n",
    "from sklearn.metrics import accuracy_score\n",
    "\n",
    "\n",
    "# Sample data representing air pressure readings for each drone\n",
    "# Each row represents a drone, and each column represents a feature (e.g., microphone array readings)\n",
    "data_Altura = []\n",
    "data_ANWB = []\n",
    "data_ATMOS = []\n",
    "data_Autel_Evo = []\n",
    "data_Phantom = []\n",
    "name_dic = {'Altura.csv': data_Altura, 'ANWB.csv': data_ANWB, 'ATMOS.csv': data_ATMOS, 'Autel_Evo.csv': data_Autel_Evo, 'Phantom.csv': data_Phantom}\n",
    "\n",
    "def datasets():\n",
    "    data_lst = ['Altura.csv', 'ANWB.csv', 'ATMOS.csv', 'Autel_Evo.csv', 'Phantom.csv']\n",
    "    for filename in data_lst:\n",
    "        data = []\n",
    "        with open(filename, \"r\") as file:\n",
    "            csvreader = csv.reader(file)\n",
    "            for row in csvreader:\n",
    "                row1 = []\n",
    "                for i,e in enumerate(row):\n",
    "                    row1.append(float(e))\n",
    "                data.append(row1)\n",
    "        step = np.array(data)\n",
    "        for i,row in enumerate(step.T):\n",
    "            if i != 0 and i != 16 and  i !=20 and i != 40 and  i !=62 and  i !=63:\n",
    "                name_dic[filename].append(row)\n",
    "\n",
    "datasets()"
   ]
  },
  {
   "cell_type": "code",
   "execution_count": 25,
   "metadata": {},
   "outputs": [
    {
     "name": "stdout",
     "output_type": "stream",
     "text": [
      "[]\n"
     ]
    },
    {
     "ename": "NameError",
     "evalue": "name 'data' is not defined",
     "output_type": "error",
     "traceback": [
      "\u001b[1;31m---------------------------------------------------------------------------\u001b[0m",
      "\u001b[1;31mNameError\u001b[0m                                 Traceback (most recent call last)",
      "Cell \u001b[1;32mIn[25], line 27\u001b[0m\n\u001b[0;32m     24\u001b[0m labels \u001b[38;5;241m=\u001b[39m np\u001b[38;5;241m.\u001b[39marray([\u001b[38;5;241m0\u001b[39m, \u001b[38;5;241m1\u001b[39m, \u001b[38;5;241m2\u001b[39m, \u001b[38;5;241m3\u001b[39m, \u001b[38;5;241m4\u001b[39m])\n\u001b[0;32m     26\u001b[0m \u001b[38;5;66;03m# Split the data into training and testing sets\u001b[39;00m\n\u001b[1;32m---> 27\u001b[0m X_train, X_test, y_train, y_test \u001b[38;5;241m=\u001b[39m train_test_split(\u001b[43mdata\u001b[49m, labels, test_size\u001b[38;5;241m=\u001b[39m\u001b[38;5;241m0.2\u001b[39m, random_state\u001b[38;5;241m=\u001b[39m\u001b[38;5;241m42\u001b[39m)\n\u001b[0;32m     29\u001b[0m \u001b[38;5;66;03m# Create an SVM classifier\u001b[39;00m\n\u001b[0;32m     30\u001b[0m clf \u001b[38;5;241m=\u001b[39m svm\u001b[38;5;241m.\u001b[39mSVC(kernel\u001b[38;5;241m=\u001b[39m\u001b[38;5;124m'\u001b[39m\u001b[38;5;124mlinear\u001b[39m\u001b[38;5;124m'\u001b[39m)\n",
      "\u001b[1;31mNameError\u001b[0m: name 'data' is not defined"
     ]
    }
   ],
   "source": [
    "def data_clean(drone, sample_percent):\n",
    "    data_arr = np.array(name_dic[drone]).T\n",
    "    total_time_points_no = len(data_arr)\n",
    "    sample_size = int(total_time_points_no * sample_percent)\n",
    "    X_data = np.empty((int(1/sample_size), sample_size))\n",
    "    for i in range(0,int(1/sample_percent)-1):\n",
    "        X = data_arr[sample_size*i:sample_size*(i+1)].T\n",
    "        np.vstack((X_data,X))\n",
    "\n",
    "    return X_data\n",
    "\n",
    "sample_percent = 0.2\n",
    "X_data = data_clean('Altura.csv', sample_percent)\n",
    "print(X_data)\n",
    "\n",
    "\n",
    "\n",
    "\n",
    "# freq[np.where(np.isclose(pxx, max(pxx)))[0]]\n",
    "\n",
    "\n",
    "\n",
    "# Corresponding labels for each drone\n",
    "labels = np.array([0, 1, 2, 3, 4])\n",
    "\n",
    "# Split the data into training and testing sets\n",
    "X_train, X_test, y_train, y_test = train_test_split(data, labels, test_size=0.2, random_state=42)\n",
    "\n",
    "# Create an SVM classifier\n",
    "clf = svm.SVC(kernel='linear')\n",
    "\n",
    "# Train the classifier\n",
    "clf.fit(X_train, y_train)\n",
    "\n",
    "# Make predictions on the test set\n",
    "predictions = clf.predict(X_test)\n",
    "\n",
    "# Calculate accuracy\n",
    "accuracy = accuracy_score(y_test, predictions, normalize=True)\n",
    "\n",
    "print(\"Accuracy:\", accuracy)"
   ]
  }
 ],
 "metadata": {
  "kernelspec": {
   "display_name": "Python 3",
   "language": "python",
   "name": "python3"
  },
  "language_info": {
   "codemirror_mode": {
    "name": "ipython",
    "version": 3
   },
   "file_extension": ".py",
   "mimetype": "text/x-python",
   "name": "python",
   "nbconvert_exporter": "python",
   "pygments_lexer": "ipython3",
   "version": "3.11.3"
  }
 },
 "nbformat": 4,
 "nbformat_minor": 2
}
